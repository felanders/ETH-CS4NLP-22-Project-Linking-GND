{
 "cells": [
  {
   "cell_type": "code",
   "execution_count": 7,
   "metadata": {},
   "outputs": [],
   "source": [
    "import requests\n",
    "\n",
    "id = \"118514768\"\n",
    "res = requests.get(f\"http://lobid.org/gnd/{id}.json\")"
   ]
  },
  {
   "cell_type": "code",
   "execution_count": 8,
   "metadata": {},
   "outputs": [],
   "source": [
    "data = res.json()"
   ]
  },
  {
   "cell_type": "code",
   "execution_count": 11,
   "metadata": {},
   "outputs": [
    {
     "name": "stdout",
     "output_type": "stream",
     "text": [
      "{'forename': ['Berd'], 'surname': ['Brehd']}\n",
      "{'forename': ['Ойген Бе́ртальд Фры́дры'], 'surname': ['Брэхт']}\n",
      "{'forename': ['Eugen Bertolt Friedrich'], 'surname': ['Brecht']}\n",
      "{'forename': ['Bartolt'], 'surname': ['Brekht']}\n",
      "{'forename': ['贝'], 'surname': ['布莱希特']}\n",
      "{'forename': ['برتولد'], 'surname': ['بريشت']}\n",
      "{'forename': ['...'], 'surname': ['Breẖt']}\n",
      "{'forename': ['...'], 'surname': ['Brecht']}\n",
      "{'personalName': ['贝·布莱希特']}\n",
      "{'forename': ['برتولد'], 'surname': ['بريخت']}\n",
      "{'forename': ['Barṭolṭa'], 'surname': ['Breṣṭa']}\n",
      "{'forename': ['Bartolta'], 'surname': ['Bresta']}\n",
      "{'forename': ['Berthold'], 'surname': ['Larsen']}\n",
      "{'forename': ['Bert'], 'surname': ['Brecht']}\n",
      "{'forename': [\"Beŏt'olt'ŭ\"], 'surname': [\"Bŭrehit'ŭ\"]}\n",
      "{'forename': [\"Peŏt'olt'ŭ\"], 'surname': [\"Pŭrehit'ŭ\"]}\n",
      "{'forename': ['Birtult'], 'surname': ['Brišt']}\n",
      "{'forename': ['Бертольт'], 'surname': ['Брехт']}\n",
      "{'forename': ['Bartholṭ'], 'surname': ['Brešṭ']}\n",
      "{'forename': ['Berutoruto'], 'surname': ['Burehito']}\n",
      "{'forename': ['Bartūlt'], 'surname': ['Breẖt']}\n",
      "{'forename': ['Berṭolṭ'], 'surname': ['Brekt']}\n",
      "{'forename': ['B.'], 'surname': ['Brechtas']}\n",
      "{'forename': ['Berṭalṭa'], 'surname': ['Breśaṭa']}\n",
      "{'forename': ['Bartolt'], 'surname': ['Breẖt']}\n",
      "{'forename': ['Birtholṭ'], 'surname': ['Brīšṭ']}\n",
      "{'forename': ['Bertôlt'], 'surname': ['Brekt']}\n",
      "{'forename': ['...'], 'surname': ['Brecht-Eisler']}\n",
      "{'forename': ['Berṭolṭ'], 'surname': ['Breḵṭ']}\n",
      "{'forename': ['ベルトルト'], 'surname': ['ブレヒト']}\n",
      "{'forename': ['Birtult'], 'surname': ['Brist']}\n",
      "{'forename': ['Bertolt'], 'surname': ['Breht']}\n",
      "{'forename': ['Birtūld'], 'surname': ['Brišt']}\n",
      "{'forename': ['Bertolʹd'], 'surname': ['Brekht']}\n",
      "{'forename': ['Mpertolt'], 'surname': ['Mprecht']}\n",
      "{'forename': ['...'], 'surname': ['Burehito']}\n",
      "{'forename': ['Bertolts'], 'surname': ['Brehts']}\n",
      "{'forename': ['Bārṭolṭ'], 'surname': ['Breḳhṭ']}\n",
      "{'forename': ['B.'], 'surname': ['Brecht']}\n",
      "{'forename': ['Бертольт'], 'surname': ['Брехт']}\n",
      "{'forename': ['برتولت'], 'surname': ['بريشت']}\n",
      "{'forename': ['Bertolʹt'], 'surname': ['Brekht']}\n",
      "{'personalName': ['布雷希特']}\n",
      "{'forename': ['Berthold'], 'surname': ['Brecht']}\n",
      "{'forename': ['Bertholt'], 'surname': ['Brecht']}\n",
      "{'forename': ['Berṭôlṭ'], 'surname': ['Breḳṭ']}\n",
      "{'forename': [\"Beituo'erte\"], 'surname': ['Bulaixite']}\n",
      "{'personalName': ['B. B.']}\n",
      "{'personalName': ['Buleixite']}\n",
      "{'forename': ['О́йген Бе́ртольд Фри́дрих'], 'surname': ['Брехт']}\n",
      "{'forename': ['Bertolt'], 'surname': ['Becht']}\n",
      "{'forename': ['Bertolʹt'], 'surname': ['Brecht']}\n",
      "{'forename': ['Bertold'], 'surname': ['Brecht']}\n",
      "{'forename': ['Eugen Berthold Friedrich'], 'surname': ['Brecht']}\n",
      "{'forename': ['B.'], 'surname': ['Berchito']}\n",
      "{'forename': ['Μπέρτολτ'], 'surname': ['Μπρεχτ']}\n",
      "{'forename': ['베르톨트'], 'surname': ['브레히트']}\n",
      "{'forename': ['Бертальд'], 'surname': ['Брэхт']}\n",
      "{'personalName': [\"Beituo'erte-Bulaixite\"]}\n",
      "{'forename': ['Бертолд'], 'surname': ['Брехт']}\n",
      "{'forename': ['Bartholṭ'], 'surname': ['Brīšṭ']}\n",
      "{'forename': ['Birtūld'], 'surname': ['Brīḫt']}\n",
      "{'forename': ['Berutorutu'], 'surname': ['Buchito']}\n",
      "{'forename': ['Bartūlt'], 'surname': ['Brišt']}\n",
      "{'forename': ['Berṭōlṭ'], 'surname': ['Brekṭ']}\n",
      "{'forename': ['Bertolts'], 'surname': ['Brechts']}\n",
      "{'forename': ['Becton'], 'surname': ['Brêcht']}\n",
      "{'forename': ['Бертолт'], 'surname': ['Брехт']}\n",
      "{'forename': ['ברטולט'], 'surname': ['ברכט']}\n",
      "{'forename': ['...'], 'surname': ['Mprecht']}\n",
      "{'forename': ['Бертолт'], 'surname': ['Брехт']}\n",
      "{'forename': ['...'], 'surname': [\"Pulaihsit'ê\"]}\n",
      "{'forename': ['Berṭalṭa'], 'surname': ['Breśṭ']}\n",
      "{'personalName': ['برشت برتولد']}\n",
      "{'forename': [\"Peit'oĉrht'ê\"], 'surname': [\"Pulaihsit'ê\"]}\n",
      "{'forename': ['...'], 'surname': ['Bulaixite']}\n",
      "{'forename': ['Birtholṭ'], 'surname': ['Brešṭ']}\n"
     ]
    }
   ],
   "source": [
    "if \"variantNameEntityForThePerson\" in data:\n",
    "    for name in data[\"variantNameEntityForThePerson\"]:\n",
    "        print(name)"
   ]
  }
 ],
 "metadata": {
  "kernelspec": {
   "display_name": "Python 3.9.7 ('venv': venv)",
   "language": "python",
   "name": "python3"
  },
  "language_info": {
   "codemirror_mode": {
    "name": "ipython",
    "version": 3
   },
   "file_extension": ".py",
   "mimetype": "text/x-python",
   "name": "python",
   "nbconvert_exporter": "python",
   "pygments_lexer": "ipython3",
   "version": "3.9.7"
  },
  "orig_nbformat": 4,
  "vscode": {
   "interpreter": {
    "hash": "e6d2888e1739c5fff784269431c26df89048cab5e87b70446ac408621b178c3e"
   }
  }
 },
 "nbformat": 4,
 "nbformat_minor": 2
}
