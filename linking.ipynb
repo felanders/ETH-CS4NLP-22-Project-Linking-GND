{
 "cells": [
  {
   "cell_type": "markdown",
   "metadata": {},
   "source": [
    "# Preprocessing"
   ]
  },
  {
   "cell_type": "code",
   "execution_count": 1,
   "metadata": {},
   "outputs": [],
   "source": [
    "import pickle\n",
    "import json\n",
    "import os\n",
    "from preprocessing import clean_gt, clean_raw, label_entity"
   ]
  },
  {
   "cell_type": "code",
   "execution_count": null,
   "metadata": {
    "scrolled": true
   },
   "outputs": [],
   "source": [
    "split = pickle.load(open('data/train_test_eval_filenames_new.pkl', 'rb'))\n",
    "split"
   ]
  },
  {
   "cell_type": "code",
   "execution_count": 39,
   "metadata": {
    "scrolled": true
   },
   "outputs": [],
   "source": [
    "#train = 94, test = 30, eval = 10"
   ]
  },
  {
   "cell_type": "code",
   "execution_count": 3,
   "metadata": {},
   "outputs": [],
   "source": [
    "# import random\n",
    "# new_split = {\"train\":[], \"test\": [], \"eval\": []}\n",
    "# for key in split:\n",
    "#     for page in split[key]:\n",
    "#         mag = page.split(\"_\")[0].split(\"-\")[0]\n",
    "#         year = page.split(\"_\")[1]\n",
    "        \n",
    "#         if mag == \"dkm\" and (year == \"1941\" or year == \"2010\"):\n",
    "#             new_split[\"train\"].append(page)\n",
    "#         if (year == \"1990\"):\n",
    "#             new_split[\"test\"].append(page)\n",
    "#         if mag ==\"sbz\" and (year == \"1895\" or year == \"1940\" or year == \"1965\" or year == \"2010\"):\n",
    "#             new_split[\"train\"].append(page)\n",
    "\n",
    "# eval_set = random.sample(new_split[\"train\"], int(len(new_split[\"train\"])/10)) #set 10% of train aside for eval\n",
    "# for page in eval_set:\n",
    "#     new_split[\"train\"].remove(page)\n",
    "# new_split[\"eval\"] = eval_set\n",
    "\n",
    "# with open('train_test_eval_filenames_new.pkl', 'wb') as out:\n",
    "#     pickle.dump(new_split, out)"
   ]
  },
  {
   "cell_type": "code",
   "execution_count": 4,
   "metadata": {},
   "outputs": [],
   "source": [
    "\"\"\"\n",
    "data = {\n",
    "    \"train\": [],\n",
    "    \"test\": [],\n",
    "    \"eval\": []\n",
    "}\n",
    "gt_data = []\n",
    "for mag in [\"dkm\", \"sbz\"]:\n",
    "    for year in os.listdir(f'data/raw/link/{mag}'):\n",
    "        with open(os.path.join(\"data/raw/link\", mag, year)) as f:\n",
    "            input_linked = json.load(f)\n",
    "        with open(os.path.join(\"data/ground-truth\", mag, year)) as f:\n",
    "            gt = json.load(f)\n",
    "        gt = clean_gt(gt)\n",
    "        gt_data += gt\n",
    "        input_linked = clean_raw(input_linked)\n",
    "\n",
    "        #due to non-determinism in the flair NER:\n",
    "        all_refs_gt = [g[\"page\"]+g[\"coord\"] for g in gt] \n",
    "        all_refs_linked = [ent[\"page\"]+ent[\"coord\"] for l in input_linked for ent in l]\n",
    "        all_valid_refs = set(all_refs_gt).intersection(set(all_refs_linked))\n",
    "\n",
    "        for ent_variations in input_linked:\n",
    "            for key in split:\n",
    "                ent_instances = []\n",
    "                for ent in ent_variations:\n",
    "                    if ent[\"page\"] in split[key]:\n",
    "                        if (ent[\"page\"]+ent[\"coord\"]) in all_valid_refs:\n",
    "                            ent_instances.append({\"ent\": ent, \"label\": label_entity(ent, gt)})\n",
    "                if ent_instances:\n",
    "                    data[key].append(ent_instances)\n",
    "\"\"\""
   ]
  },
  {
   "cell_type": "code",
   "execution_count": 5,
   "metadata": {},
   "outputs": [],
   "source": [
    "\"\"\"\n",
    "with open(\"data/processed.pkl\", \"wb\") as f:\n",
    "    pickle.dump(data, f)\n",
    "\"\"\""
   ]
  },
  {
   "cell_type": "markdown",
   "metadata": {},
   "source": [
    "# Candidate Generation"
   ]
  },
  {
   "cell_type": "code",
   "execution_count": 1,
   "metadata": {},
   "outputs": [],
   "source": [
    "import pickle\n",
    "from tqdm.notebook import  tqdm\n",
    "from candidate_generation import create_metagrid_candidates, get_candidates_fuseki"
   ]
  },
  {
   "cell_type": "code",
   "execution_count": null,
   "metadata": {},
   "outputs": [],
   "source": [
    "# load everytime you run this as we pop keys to keep data clean..\n",
    "with open(\"data/processed.pkl\", \"rb\") as f:\n",
    "    data = pickle.load(f)\n",
    "\n",
    "for split in [\"train\", \"eval\", \"test\"]:\n",
    "    ent_cand_label = []\n",
    "    i = 0\n",
    "    for entity_list in tqdm(data[split], smoothing=0.01):\n",
    "        i += 1\n",
    "        # Create candidates only for the first entry in the list as all the entity information is always the same\n",
    "        # The only thing that changes are pages and page_coordinates\n",
    "        candidates = create_metagrid_candidates(ent=entity_list[0][\"ent\"])\n",
    "        # Generate the list of page_coordinates and the corresponding labels!\n",
    "        coord_list = []\n",
    "        label_list = []\n",
    "        for ent_dict in entity_list:\n",
    "            ent = ent_dict[\"ent\"]\n",
    "            coord_list.append({\n",
    "                \"page\": ent.pop(\"page\", \"\"), \n",
    "                \"coords\": ent.pop(\"coord\", \"\")\n",
    "            })\n",
    "            label_list.append(ent_dict[\"label\"])\n",
    "        ent_cand_label.append({\"entity\": ent, \"candidates\": candidates, \"occurences\": coord_list, \"labels\": label_list})\n",
    "        if i % 100 == 0:\n",
    "            with open(f\"data/candidates/metagrid/candidates-gnd-{split}.pkl\", \"wb\") as f:\n",
    "                pickle.dump(ent_cand_label, f)\n",
    "                    \n",
    "    with open(f\"data/candidates/metagrid/candidates-gnd-{split}.pkl\", \"wb\") as f:\n",
    "       pickle.dump(ent_cand_label, f)"
   ]
  },
  {
   "cell_type": "markdown",
   "metadata": {},
   "source": [
    "# Feature Generation"
   ]
  },
  {
   "cell_type": "markdown",
   "metadata": {},
   "source": [
    "### To get the relevant fastttext model uncomment and run the following cell"
   ]
  },
  {
   "cell_type": "code",
   "execution_count": 38,
   "metadata": {},
   "outputs": [],
   "source": [
    "# from gensim.models.fasttext import FastText, load_facebook_vectors\n",
    "# model = load_facebook_vectors(\"cc.de.300.bin/cc.de.300.bin\")\n",
    "# model.save(\"./fasttext\")"
   ]
  },
  {
   "cell_type": "code",
   "execution_count": 3,
   "metadata": {
    "scrolled": true
   },
   "outputs": [],
   "source": [
    "import pickle\n",
    "from tqdm.notebook import  tqdm\n",
    "from feature_generation import candidates_to_features, process_fuseki_candidates"
   ]
  },
  {
   "cell_type": "code",
   "execution_count": null,
   "metadata": {
    "collapsed": true
   },
   "outputs": [],
   "source": [
    "#AF:\n",
    "from tqdm import tqdm\n",
    "# load everytime you run this as we pop keys to keep data clean..\n",
    "with open(\"data/processed.pkl\", \"rb\") as f:\n",
    "    data = pickle.load(f)\n",
    "\n",
    "problematic_entities = []\n",
    "for split in [\"train\", \"eval\", \"test\"]:\n",
    "    ent_cand_label = []\n",
    "    i = 0\n",
    "    for entity_list in tqdm(data[split], smoothing=0.01):\n",
    "        i += 1\n",
    "        # Create candidates only for the first entry in the list as all the entity information is always the same\n",
    "        # The only thing that changes are pages and page_coordinates\n",
    "        \n",
    "        # fuseki:\n",
    "        unique_candidate_dict = get_candidates_fuseki(entity_list[0][\"ent\"])\n",
    "        candidates = process_fuseki_candidates(unique_candidate_dict)\n",
    "        #print(process_fuseki_candidates(unique_candidate_dict))\n",
    "        #list_of_tuples.append((ent, processed_fuseki_cands, ent_dict[\"label\"]))\n",
    "        \n",
    "        #metagrid\n",
    "        ## candidates = create_metagrid_candidates(ent=entity_list[0][\"ent\"])\n",
    "        # Generate the list of page_coordinates and the corresponding labels!\n",
    "        coord_list = []\n",
    "        gt_label = []\n",
    "        for ent_dict in entity_list:\n",
    "            ent = ent_dict[\"ent\"]\n",
    "            coord_list.append({\n",
    "                \"page\": ent.pop(\"page\", \"\"), \n",
    "                \"coords\": ent.pop(\"coord\", \"\")\n",
    "            })\n",
    "            gt_label.append(ent_dict[\"label\"])\n",
    "\n",
    "        #if len(gt_label)!=1:\n",
    "        #    problematic_entities.append({\"ent_list\": entity_list, \"gt_labels\": gt_label, \"mag\": coord_list})\n",
    "        #gt_label = gt_label.pop()\n",
    "        \n",
    "        ent_cand_label.append({\"entity\": ent, \"candidates\": candidates, \"occurences\": coord_list, \"gt_label\": gt_label})\n",
    "        if i % 100 == 0:\n",
    "            with open(f\"data/candidates/fuseki/candidates-gnd-{split}-{i}.pkl\", \"wb\") as f:\n",
    "                pickle.dump(ent_cand_label, f)\n",
    "                    \n",
    "    with open(f\"data/candidates/fuseki/candidates-gnd-{split}.pkl\", \"wb\") as f:\n",
    "       pickle.dump(ent_cand_label, f)\n",
    "print(problematic_entities)\n"
   ]
  },
  {
   "cell_type": "markdown",
   "metadata": {},
   "source": [
    "# Feature Generation"
   ]
  },
  {
   "cell_type": "code",
   "execution_count": null,
   "metadata": {
    "scrolled": true
   },
   "outputs": [],
   "source": [
    "import pickle\n",
    "from tqdm import  tqdm\n",
    "from feature_generation import candidates_to_features"
   ]
  },
  {
   "cell_type": "code",
   "execution_count": null,
   "metadata": {},
   "outputs": [],
   "source": [
    "generator = \"metagrid\" # or \"fuseki\""
   ]
  },
  {
   "cell_type": "code",
   "execution_count": null,
   "metadata": {
    "collapsed": true
   },
   "outputs": [],
   "source": [
    "for split in [\"train\", \"eval\", \"test\"]:\n",
    "    with open(f\"data/candidates/{generator}/candidates-gnd-{split}.pkl\", \"rb\") as f:\n",
    "        ent_cand_label = pickle.load(f)\n",
    "\n",
    "    list_of_good_entities = []\n",
    "    list_of_problematic_entities = []\n",
    "    for ent_dict in tqdm(ent_cand_label):\n",
    "        if len(set(ent_dict[\"labels\"])) > 1:\n",
    "            for label in set(ent_dict[\"labels\"]):\n",
    "                ent_dict[\"label\"] = label\n",
    "                features = candidates_to_features(ent=ent_dict[\"entity\"], candidates=ent_dict[\"candidates\"], gt_label=ent_dict[\"label\"])\n",
    "                ent_dict.update(features)\n",
    "                list_of_problematic_entities.append(ent_dict.copy())\n",
    "        else:\n",
    "            ent_dict[\"label\"] = set(ent_dict[\"labels\"]).pop()\n",
    "            features = candidates_to_features(ent=ent_dict[\"entity\"], candidates=ent_dict[\"candidates\"], gt_label=ent_dict[\"label\"])\n",
    "            ent_dict.update(features)\n",
    "            list_of_good_entities.append(ent_dict)\n",
    "            \n",
    "    with open(f\"data/features/{generator}/{split}.pkl\", \"wb\") as f:\n",
    "        pickle.dump(list_of_good_entities, file=f)\n",
    "    \n",
    "    with open(f\"data/features/{generator}/{split}_problematic.pkl\", \"wb\") as f:\n",
    "        pickle.dump(list_of_problematic_entities, file=f)"
   ]
  },
  {
   "cell_type": "markdown",
   "metadata": {},
   "source": [
    "# Ranking"
   ]
  },
  {
   "cell_type": "markdown",
   "metadata": {},
   "source": [
    "## Load Data"
   ]
  },
  {
   "cell_type": "code",
   "execution_count": 1,
   "metadata": {},
   "outputs": [],
   "source": [
    "import pickle\n",
    "from tqdm import tqdm\n",
    "import numpy as np\n",
    "from evaluation import perform_experiment, crossvalidate_experiment"
   ]
  },
  {
   "cell_type": "code",
   "execution_count": 14,
   "metadata": {},
   "outputs": [],
   "source": [
    "generator = \"metagrid\" # or \"fuseki\""
   ]
  },
  {
   "cell_type": "code",
   "execution_count": 15,
   "metadata": {},
   "outputs": [],
   "source": [
    "d = {\"train\": {}, \"eval\": {}, \"test\": {}}\n",
    "for split in [\"train\", \"eval\", \"test\"]:\n",
    "    with open(f\"data/features/{generator}/{split}.pkl\", \"rb\") as f:\n",
    "        d[split] = pickle.load(file=f)\n",
    "\n",
    "# problematic entities\n",
    "d_problem = {\"train\": {}, \"eval\": {}, \"test\": {}}\n",
    "for split in [\"train\", \"eval\", \"test\"]:\n",
    "    with open(f\"data/features/{generator}/{split}_problematic.pkl\", \"rb\") as f:\n",
    "        d_problem[split] = pickle.load(file=f)\n",
    "\n",
    "d_combined = {\"train\": d[\"train\"] + d_problem[\"train\"], \"eval\": d[\"eval\"] + d_problem[\"eval\"], \"test\": d[\"test\"] + d_problem[\"test\"]}"
   ]
  },
  {
   "cell_type": "markdown",
   "metadata": {},
   "source": [
    "**Best scores We could get**"
   ]
  },
  {
   "cell_type": "code",
   "execution_count": 18,
   "metadata": {},
   "outputs": [],
   "source": [
    "from sklearn.ensemble import ExtraTreesRegressor\n",
    "\n",
    "ent_scores, ment_scores = perform_experiment(\n",
    "    keep_empty=True,\n",
    "    do_sample=True,\n",
    "    oversampling=2, # Multiple of how often we oversample y = 1\n",
    "    balance=3, # multiple of y = 0 samples vs y = 1 samples\n",
    "    #train=d[\"train\"] + d[\"eval\"],\n",
    "    #eval=d[\"test\"],\n",
    "    train=d_combined[\"train\"] + d_combined[\"eval\"],\n",
    "    eval=d_combined[\"test\"],\n",
    "    model=ExtraTreesRegressor(n_estimators=100, random_state=0, criterion=\"squared_error\", bootstrap=True),\n",
    "    n_s=[1,10], # How many candidates do we keep\n",
    "    thresholds=[0.2], # Where do we cut off\n",
    "    verbose=False # Print stuff\n",
    ")"
   ]
  },
  {
   "cell_type": "code",
   "execution_count": 19,
   "metadata": {},
   "outputs": [
    {
     "name": "stdout",
     "output_type": "stream",
     "text": [
      "\n",
      "Entity Level\n",
      "N: 1 Threshold: 0.2\n",
      "F1: 0.384 RE:  0.24 PR: 0.955 AC: 0.428\n",
      "TP: 42 FN: 133 FP 2 TN 59\n",
      "\n",
      "\n",
      "N: 10 Threshold: 0.2\n",
      "F1: 0.451 RE:  0.291 PR: 1.0 AC: 0.475\n",
      "TP: 51 FN: 124 FP 0 TN 61\n",
      "\n",
      "\n",
      "Mention Level\n",
      "N: 1 Threshold: 0.2\n",
      "F1: 0.644 RE:  0.489 PR: 0.941 AC: 0.565\n",
      "TP: 466 FN: 487 FP 29 TN 203\n",
      "\n",
      "\n",
      "N: 10 Threshold: 0.2\n",
      "F1: 0.727 RE:  0.571 PR: 1.0 AC: 0.655\n",
      "TP: 544 FN: 409 FP 0 TN 232\n",
      "\n",
      "\n"
     ]
    }
   ],
   "source": [
    "print(\"\\nEntity Level\")\n",
    "for score in ent_scores:\n",
    "    print(\"N:\", score[\"top_n\"], \"Threshold:\", score[\"threshold\"])\n",
    "    score[\"score\"].print_scores()\n",
    "\n",
    "print(\"Mention Level\")\n",
    "for score in ment_scores:\n",
    "    print(\"N:\", score[\"top_n\"], \"Threshold:\", score[\"threshold\"])\n",
    "    score[\"score\"].print_scores()"
   ]
  },
  {
   "cell_type": "code",
   "execution_count": 10,
   "metadata": {},
   "outputs": [],
   "source": [
    "ent_scores, ment_scores = crossvalidate_experiment(\n",
    "    train=d_combined[\"train\"] + d_combined[\"eval\"],\n",
    "    eval=d_combined[\"test\"],\n",
    "    n_fold = 5,\n",
    "    keep_empty=True,\n",
    "    do_sample=True,\n",
    "    oversampling=2, # Multiple of how often we oversample y = 1\n",
    "    balance=3, # multiple of y = 0 samples vs y = 1 samples\n",
    "    model=ExtraTreesRegressor(n_estimators=100, random_state=0, criterion=\"squared_error\", bootstrap=True),\n",
    "    n_s=[1,10], # How many candidates do we keep\n",
    "    thresholds=[0.01, 0.1, 0.3, 0.5], # Where do we cut off\n",
    "    verbose=False # Print stuff\n",
    ")"
   ]
  },
  {
   "cell_type": "code",
   "execution_count": null,
   "metadata": {},
   "outputs": [],
   "source": [
    "print(\"\\nEntity Level\")\n",
    "for score in ent_scores:\n",
    "    print(\"N:\", score[\"top_n\"], \"Threshold:\", score[\"threshold\"])\n",
    "    score[\"score\"].print_scores()\n",
    "\n",
    "print(\"Mention Level\")\n",
    "for score in ment_scores:\n",
    "    print(\"N:\", score[\"top_n\"], \"Threshold:\", score[\"threshold\"])\n",
    "    score[\"score\"].print_scores()"
   ]
  },
  {
   "cell_type": "markdown",
   "metadata": {},
   "source": [
    "# Hyperparameter tuning:"
   ]
  },
  {
   "cell_type": "code",
   "execution_count": 3,
   "metadata": {},
   "outputs": [],
   "source": [
    "from sklearn.ensemble import ExtraTreesClassifier, ExtraTreesRegressor\n",
    "from sklearn.linear_model import ElasticNet\n",
    "from sklearn.ensemble import GradientBoostingRegressor\n",
    "from sklearn.gaussian_process import GaussianProcessRegressor\n",
    "from sklearn.gaussian_process.kernels import DotProduct, WhiteKernel\n",
    "\n",
    "models = [\n",
    "    GradientBoostingRegressor(n_estimators=100, learning_rate=0.1, max_depth=1, random_state=0, loss='squared_error'),\n",
    "    ExtraTreesRegressor(n_estimators=100, random_state=0, criterion=\"squared_error\", bootstrap=True),\n",
    "    ExtraTreesRegressor(n_estimators=100, random_state=0, criterion=\"absolute_error\", bootstrap=True),\n",
    "    ExtraTreesClassifier(n_estimators=100, random_state=0, bootstrap=True),\n",
    "    ElasticNet(random_state=0),\n",
    "    GaussianProcessRegressor(kernel = DotProduct() + WhiteKernel(), random_state=0)\n",
    "]\n",
    "\n",
    "model_names = [\"Gradient Boosting Regressor\", \"Extra Trees Regressor Squared\", \"Extra Trees Regressor Absolute\", \"Extra Trees Classifier\", \"Elastic Net\", \"Gaussian Process\"]"
   ]
  },
  {
   "cell_type": "code",
   "execution_count": 11,
   "metadata": {},
   "outputs": [],
   "source": [
    "balance_list = [1, 2, 3, 5]\n",
    "oversampling_list = [1, 2, 3, 5]\n",
    "n_s = [1,10]\n",
    "thresholds = [0.01, 0.1, 0.2, 0.5]"
   ]
  },
  {
   "cell_type": "code",
   "execution_count": null,
   "metadata": {},
   "outputs": [],
   "source": [
    "model_results = []\n",
    "\n",
    "for model, model_name in zip(models, model_names):\n",
    "    print(model_name)\n",
    "    results = []\n",
    "    for data, data_name in zip([d, d_combined], [\"cleaned\", \"combined\"]):\n",
    "        print(\"Data:\", data_name)\n",
    "        for keep_empty in [True, False]:\n",
    "            print(\"keep_empty:\", keep_empty)\n",
    "            for do_sample in [True, False]:\n",
    "                print(\"do_sample:\", do_sample)\n",
    "                if do_sample:\n",
    "                    for balance in balance_list:\n",
    "                        print(\"Balance:\", balance)\n",
    "                        for oversampling in oversampling_list:\n",
    "                            print(\"Oversampling:\", oversampling)\n",
    "                            ent_scores, ment_scores = crossvalidate_experiment(\n",
    "                                    train = data[\"train\"],\n",
    "                                    eval = data[\"eval\"],\n",
    "                                    n_fold = 5,\n",
    "                                    keep_empty=keep_empty,\n",
    "                                    do_sample=do_sample, \n",
    "                                    oversampling=oversampling, \n",
    "                                    balance=balance,\n",
    "                                    model=model,\n",
    "                                    n_s=n_s,\n",
    "                                    thresholds=thresholds,\n",
    "                                    verbose=False \n",
    "                                )\n",
    "                            results.append({\n",
    "                                \"keep_empty\": keep_empty,\n",
    "                                \"do_sample\": do_sample,\n",
    "                                \"balance\": balance,\n",
    "                                \"oversampling\": oversampling,\n",
    "                                \"ent_scores\": ent_scores,\n",
    "                                \"ment_scores\": ment_scores,\n",
    "                                \"model\": model_name,\n",
    "                                \"data\": data_name\n",
    "                            })\n",
    "                else:\n",
    "                    balance = 1\n",
    "                    oversampling = 1 \n",
    "                    ent_scores, ment_scores = crossvalidate_experiment(\n",
    "                            train = data[\"train\"],\n",
    "                            eval = data[\"eval\"],\n",
    "                            n_fold = 5,\n",
    "                            keep_empty=keep_empty,\n",
    "                            do_sample=do_sample, \n",
    "                            oversampling=oversampling, \n",
    "                            balance=balance,\n",
    "                            model=model,\n",
    "                            n_s=n_s,\n",
    "                            thresholds=thresholds,\n",
    "                            verbose=False \n",
    "                        )\n",
    "                    results.append({\n",
    "                        \"keep_empty\": keep_empty,\n",
    "                        \"do_sample\": do_sample,\n",
    "                        \"balance\": balance,\n",
    "                        \"oversampling\": oversampling,\n",
    "                        \"ent_scores\": ent_scores,\n",
    "                        \"ment_scores\": ment_scores,\n",
    "                        \"model\": model_name,\n",
    "                        \"data\": data_name\n",
    "                    })\n",
    "    model_results.append(results)"
   ]
  },
  {
   "cell_type": "code",
   "execution_count": null,
   "metadata": {},
   "outputs": [],
   "source": [
    "# top_10 scores are necessarily better than top_1 scores, here we can decide which one we choose to get metrics about\n",
    "top_n = 1"
   ]
  },
  {
   "cell_type": "code",
   "execution_count": 19,
   "metadata": {},
   "outputs": [],
   "source": [
    "def extract(scores, score_name, dict, current_setup, top_n):\n",
    "    for score in scores:\n",
    "        score_dict = score[\"score\"].get_score()\n",
    "        if score[\"top_n\"] == top_n:\n",
    "            curr_setup[\"top_n\"] = score[\"top_n\"]\n",
    "            curr_setup[\"threshold\"] = score[\"threshold\"]\n",
    "            if score_dict[score_name] > dict[f\"top_{score_name}\"]:\n",
    "                dict[f\"top_{score_name}\"] = score_dict[score_name]\n",
    "                dict[f\"top_{score_name}_setup\"] = [current_setup]\n",
    "            elif score_dict[score_name] == dict[f\"top_{score_name}\"]:\n",
    "                dict[f\"top_{score_name}_setup\"].append(current_setup)\n",
    "    return dict\n",
    "\n",
    "model_results = []\n",
    "for model_name in model_names:\n",
    "    dictionary={\n",
    "        \"ent\": {\n",
    "            \"top_F1\": 0,\n",
    "            \"top_Recall\": 0,\n",
    "            \"top_Precision\": 0,\n",
    "            \"top_F1_setup\": [],\n",
    "            \"top_Recall_setup\": [],\n",
    "            \"top_Precision_setup\": []\n",
    "        },\n",
    "        \"ment\": {\n",
    "            \"top_F1\": 0,\n",
    "            \"top_Recall\": 0,\n",
    "            \"top_Precision\": 0,\n",
    "            \"top_F1_setup\": [],\n",
    "            \"top_Recall_setup\": [],\n",
    "            \"top_Precision_setup\": []\n",
    "        }\n",
    "    }\n",
    "    for di in results:\n",
    "        if di[\"model\"] == model_name:\n",
    "            for scoring_level in [\"ent\", \"ment\"]:\n",
    "                scores = di[f\"{scoring_level}_scores\"]\n",
    "                curr_setup = {\n",
    "                    \"data\": di[\"data\"],\n",
    "                    \"do_sample\": di[\"do_sample\"],\n",
    "                    \"balance\": di[\"balance\"],\n",
    "                    \"oversampling\": di[\"oversampling\"],\n",
    "                    \"keep_empty\": di[\"keep_empty\"]\n",
    "                }\n",
    "                for score_name in [\"F1\", \"Recall\", \"Precision\"]:\n",
    "                    dictionary[scoring_level] = extract(scores, score_name, dictionary[scoring_level], curr_setup, top_n=top_n )\n",
    "    model_results.append(dictionary)        \n"
   ]
  },
  {
   "cell_type": "code",
   "execution_count": 20,
   "metadata": {},
   "outputs": [],
   "source": [
    "score = \"F1\""
   ]
  },
  {
   "cell_type": "code",
   "execution_count": null,
   "metadata": {},
   "outputs": [],
   "source": [
    "for scores, model_name in zip(model_results, model_names):\n",
    "    balance = []\n",
    "    combined = []\n",
    "    oversampling = []\n",
    "    keep_empty = []\n",
    "    do_sample = []\n",
    "    top_n = []\n",
    "    thresholds = []\n",
    "    print(model_name)\n",
    "    for scoring_level in [\"ent\", \"ment\"]:\n",
    "        print(f\"{scoring_level}\\t\", f\"{score}:\\t\", scores[scoring_level][f\"top_{score}\"])\n",
    "        print(f\"{scoring_level}\\t\", f\"{score} Setup:\")\n",
    "        for setup in scores[scoring_level][f\"top_{score}_setup\"]:\n",
    "            if setup[\"data\"] == \"cleaned\":\n",
    "                combined.append(0)\n",
    "            else:\n",
    "                combined.append(1)\n",
    "            balance.append(setup[\"balance\"])\n",
    "            oversampling.append(setup[\"oversampling\"])\n",
    "            top_n.append(setup[\"top_n\"])\n",
    "            thresholds.append(setup[\"threshold\"])\n",
    "            if setup[\"do_sample\"]:\n",
    "                do_sample.append(1)\n",
    "            else:\n",
    "                do_sample.append(0)\n",
    "            if setup[\"keep_empty\"]:\n",
    "                keep_empty.append(1)\n",
    "            else:\n",
    "                keep_empty.append(0)\n",
    "    \n",
    "        print(f\"Number of setups: {len(do_sample)}\")\n",
    "\n",
    "        print(\"Mean\")\n",
    "        print(\"sample\", np.mean(do_sample))\n",
    "        print(\"empty \", np.mean(keep_empty))\n",
    "        print(\"combin\", np.mean(combined))\n",
    "        print(\"tresh \", np.mean(thresholds))\n",
    "        print(\"top_n \", np.mean(top_n))\n",
    "        print(\"overs \", np.mean(oversampling))\n",
    "        print(\"balanc\", np.mean(balance))\n",
    "\n",
    "        print(\"Median\")\n",
    "        print(\"sample\", np.median(do_sample))\n",
    "        print(\"empty \", np.median(keep_empty))\n",
    "        print(\"combin\", np.median(combined))\n",
    "        print(\"tresh \", np.median(thresholds))\n",
    "        print(\"top_n \", np.median(top_n))\n",
    "        print(\"overs \", np.median(oversampling))\n",
    "        print(\"balanc\", np.median(balance))\n",
    "        print(\"\\n\\n\")\n",
    "            "
   ]
  }
 ],
 "metadata": {
  "kernelspec": {
   "display_name": "Python 3.9.7 ('venv': venv)",
   "language": "python",
   "name": "python3"
  },
  "language_info": {
   "codemirror_mode": {
    "name": "ipython",
    "version": 3
   },
   "file_extension": ".py",
   "mimetype": "text/x-python",
   "name": "python",
   "nbconvert_exporter": "python",
   "pygments_lexer": "ipython3",
   "version": "3.9.7"
  },
  "vscode": {
   "interpreter": {
    "hash": "e6d2888e1739c5fff784269431c26df89048cab5e87b70446ac408621b178c3e"
   }
  }
 },
 "nbformat": 4,
 "nbformat_minor": 2
}
