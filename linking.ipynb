{
 "cells": [
  {
   "cell_type": "markdown",
   "metadata": {},
   "source": [
    "# Preprocessing"
   ]
  },
  {
   "cell_type": "code",
   "execution_count": 1,
   "metadata": {},
   "outputs": [],
   "source": [
    "import pickle\n",
    "import json\n",
    "import os\n",
    "from preprocessing import clean_gt, clean_raw, label_entity"
   ]
  },
  {
   "cell_type": "code",
   "execution_count": null,
   "metadata": {
    "scrolled": true
   },
   "outputs": [],
   "source": [
    "split = pickle.load(open('data/train_test_eval_filenames_new.pkl', 'rb'))\n",
    "split"
   ]
  },
  {
   "cell_type": "code",
   "execution_count": 39,
   "metadata": {
    "scrolled": true
   },
   "outputs": [],
   "source": [
    "#train = 94, test = 30, eval = 10"
   ]
  },
  {
   "cell_type": "code",
   "execution_count": 3,
   "metadata": {},
   "outputs": [],
   "source": [
    "# import random\n",
    "# new_split = {\"train\":[], \"test\": [], \"eval\": []}\n",
    "# for key in split:\n",
    "#     for page in split[key]:\n",
    "#         mag = page.split(\"_\")[0].split(\"-\")[0]\n",
    "#         year = page.split(\"_\")[1]\n",
    "        \n",
    "#         if mag == \"dkm\" and (year == \"1941\" or year == \"2010\"):\n",
    "#             new_split[\"train\"].append(page)\n",
    "#         if (year == \"1990\"):\n",
    "#             new_split[\"test\"].append(page)\n",
    "#         if mag ==\"sbz\" and (year == \"1895\" or year == \"1940\" or year == \"1965\" or year == \"2010\"):\n",
    "#             new_split[\"train\"].append(page)\n",
    "\n",
    "# eval_set = random.sample(new_split[\"train\"], int(len(new_split[\"train\"])/10)) #set 10% of train aside for eval\n",
    "# for page in eval_set:\n",
    "#     new_split[\"train\"].remove(page)\n",
    "# new_split[\"eval\"] = eval_set\n",
    "\n",
    "# with open('train_test_eval_filenames_new.pkl', 'wb') as out:\n",
    "#     pickle.dump(new_split, out)"
   ]
  },
  {
   "cell_type": "code",
   "execution_count": 4,
   "metadata": {},
   "outputs": [],
   "source": [
    "\"\"\"\n",
    "data = {\n",
    "    \"train\": [],\n",
    "    \"test\": [],\n",
    "    \"eval\": []\n",
    "}\n",
    "gt_data = []\n",
    "for mag in [\"dkm\", \"sbz\"]:\n",
    "    for year in os.listdir(f'data/raw/link/{mag}'):\n",
    "        with open(os.path.join(\"data/raw/link\", mag, year)) as f:\n",
    "            input_linked = json.load(f)\n",
    "        with open(os.path.join(\"data/ground-truth\", mag, year)) as f:\n",
    "            gt = json.load(f)\n",
    "        gt = clean_gt(gt)\n",
    "        gt_data += gt\n",
    "        input_linked = clean_raw(input_linked)\n",
    "\n",
    "        #due to non-determinism in the flair NER:\n",
    "        all_refs_gt = [g[\"page\"]+g[\"coord\"] for g in gt] \n",
    "        all_refs_linked = [ent[\"page\"]+ent[\"coord\"] for l in input_linked for ent in l]\n",
    "        all_valid_refs = set(all_refs_gt).intersection(set(all_refs_linked))\n",
    "\n",
    "        for ent_variations in input_linked:\n",
    "            for key in split:\n",
    "                ent_instances = []\n",
    "                for ent in ent_variations:\n",
    "                    if ent[\"page\"] in split[key]:\n",
    "                        if (ent[\"page\"]+ent[\"coord\"]) in all_valid_refs:\n",
    "                            ent_instances.append({\"ent\": ent, \"label\": label_entity(ent, gt)})\n",
    "                if ent_instances:\n",
    "                    data[key].append(ent_instances)\n",
    "\"\"\""
   ]
  },
  {
   "cell_type": "code",
   "execution_count": 5,
   "metadata": {},
   "outputs": [],
   "source": [
    "\"\"\"\n",
    "with open(\"data/processed.pkl\", \"wb\") as f:\n",
    "    pickle.dump(data, f)\n",
    "\"\"\""
   ]
  },
  {
   "cell_type": "markdown",
   "metadata": {},
   "source": [
    "# Candidate Generation"
   ]
  },
  {
   "cell_type": "code",
   "execution_count": 1,
   "metadata": {},
   "outputs": [],
   "source": [
    "import pickle\n",
    "from tqdm.notebook import  tqdm\n",
    "from candidate_generation import create_metagrid_candidates, get_candidates_fuseki"
   ]
  },
  {
   "cell_type": "code",
   "execution_count": null,
   "metadata": {},
   "outputs": [
    {
     "data": {
      "application/vnd.jupyter.widget-view+json": {
       "model_id": "83044df59dce4e70941c4a14c8d83cb7",
       "version_major": 2,
       "version_minor": 0
      },
      "text/plain": [
       "  0%|          | 0/49 [00:00<?, ?it/s]"
      ]
     },
     "metadata": {},
     "output_type": "display_data"
    },
    {
     "data": {
      "application/vnd.jupyter.widget-view+json": {
       "model_id": "19be1b9550fc4ca49b236c6243a93783",
       "version_major": 2,
       "version_minor": 0
      },
      "text/plain": [
       "  0%|          | 0/219 [00:00<?, ?it/s]"
      ]
     },
     "metadata": {},
     "output_type": "display_data"
    }
   ],
   "source": [
    "# load everytime you run this as we pop keys to keep data clean..\n",
    "with open(\"data/processed.pkl\", \"rb\") as f:\n",
    "    data = pickle.load(f)\n",
    "\n",
    "for split in [\"train\", \"eval\", \"test\"]:\n",
    "    ent_cand_label = []\n",
    "    i = 0\n",
    "    for entity_list in tqdm(data[split], smoothing=0.01):\n",
    "        i += 1\n",
    "        # Create candidates only for the first entry in the list as all the entity information is always the same\n",
    "        # The only thing that changes are pages and page_coordinates\n",
    "        candidates = create_metagrid_candidates(ent=entity_list[0][\"ent\"])\n",
    "        # Generate the list of page_coordinates and the corresponding labels!\n",
    "        coord_list = []\n",
    "        label_list = []\n",
    "        for ent_dict in entity_list:\n",
    "            ent = ent_dict[\"ent\"]\n",
    "            coord_list.append({\n",
    "                \"page\": ent.pop(\"page\", \"\"), \n",
    "                \"coords\": ent.pop(\"coord\", \"\")\n",
    "            })\n",
    "            label_list.append(ent_dict[\"label\"])\n",
    "        ent_cand_label.append({\"entity\": ent, \"candidates\": candidates, \"occurences\": coord_list, \"labels\": label_list})\n",
    "        if i % 100 == 0:\n",
    "            with open(f\"candidates-gnd-{split}.pkl\", \"wb\") as f:\n",
    "                pickle.dump(ent_cand_label, f)\n",
    "                    \n",
    "    with open(f\"candidates-gnd-{split}.pkl\", \"wb\") as f:\n",
    "       pickle.dump(ent_cand_label, f)"
   ]
  },
  {
   "cell_type": "markdown",
   "metadata": {},
   "source": [
    "# Feature Generation"
   ]
  },
  {
   "cell_type": "markdown",
   "metadata": {},
   "source": [
    "### To get the relevant fastttext model uncomment and run the following cell"
   ]
  },
  {
   "cell_type": "code",
   "execution_count": 38,
   "metadata": {},
   "outputs": [],
   "source": [
    "# from gensim.models.fasttext import FastText, load_facebook_vectors\n",
    "# model = load_facebook_vectors(\"cc.de.300.bin/cc.de.300.bin\")\n",
    "# model.save(\"./fasttext\")"
   ]
  },
  {
   "cell_type": "code",
   "execution_count": 3,
   "metadata": {
    "scrolled": true
   },
   "outputs": [],
   "source": [
    "import pickle\n",
    "from tqdm.notebook import  tqdm\n",
    "from feature_generation import candidates_to_features, process_fuseki_candidates"
   ]
  },
  {
   "cell_type": "code",
   "execution_count": 55,
   "metadata": {
    "collapsed": true
   },
   "outputs": [
    {
     "data": {
      "application/vnd.jupyter.widget-view+json": {
       "model_id": "a6d02b434b3e46c0a55a8cf2d79d728d",
       "version_major": 2,
       "version_minor": 0
      },
      "text/plain": [
       "  0%|          | 0/574 [00:00<?, ?it/s]"
      ]
     },
     "metadata": {},
     "output_type": "display_data"
    },
    {
     "data": {
      "application/vnd.jupyter.widget-view+json": {
       "model_id": "667ede6cebea4fe2aadb805e7dedae83",
       "version_major": 2,
       "version_minor": 0
      },
      "text/plain": [
       "  0%|          | 0/49 [00:00<?, ?it/s]"
      ]
     },
     "metadata": {},
     "output_type": "display_data"
    },
    {
     "data": {
      "application/vnd.jupyter.widget-view+json": {
       "model_id": "e227acf3d41741dfbf4c18d26a7fe859",
       "version_major": 2,
       "version_minor": 0
      },
      "text/plain": [
       "  0%|          | 0/219 [00:00<?, ?it/s]"
      ]
     },
     "metadata": {},
     "output_type": "display_data"
    }
   ],
   "source": [
    "#AF:\n",
    "from tqdm import tqdm\n",
    "# load everytime you run this as we pop keys to keep data clean..\n",
    "with open(\"data/processed.pkl\", \"rb\") as f:\n",
    "    data = pickle.load(f)\n",
    "\n",
    "problematic_entities = []\n",
    "for split in [\"train\", \"eval\", \"test\"]:\n",
    "    ent_cand_label = []\n",
    "    i = 0\n",
    "    for entity_list in tqdm(data[split], smoothing=0.01):\n",
    "        i += 1\n",
    "        # Create candidates only for the first entry in the list as all the entity information is always the same\n",
    "        # The only thing that changes are pages and page_coordinates\n",
    "        \n",
    "        # fuseki:\n",
    "        unique_candidate_dict = get_candidates_fuseki(entity_list[0][\"ent\"])\n",
    "        candidates = process_fuseki_candidates(unique_candidate_dict)\n",
    "        #print(process_fuseki_candidates(unique_candidate_dict))\n",
    "        #list_of_tuples.append((ent, processed_fuseki_cands, ent_dict[\"label\"]))\n",
    "        \n",
    "        #metagrid\n",
    "        ## candidates = create_metagrid_candidates(ent=entity_list[0][\"ent\"])\n",
    "        # Generate the list of page_coordinates and the corresponding labels!\n",
    "        coord_list = []\n",
    "        gt_label = []\n",
    "        for ent_dict in entity_list:\n",
    "            ent = ent_dict[\"ent\"]\n",
    "            coord_list.append({\n",
    "                \"page\": ent.pop(\"page\", \"\"), \n",
    "                \"coords\": ent.pop(\"coord\", \"\")\n",
    "            })\n",
    "            gt_label.append(ent_dict[\"label\"])\n",
    "\n",
    "        #if len(gt_label)!=1:\n",
    "        #    problematic_entities.append({\"ent_list\": entity_list, \"gt_labels\": gt_label, \"mag\": coord_list})\n",
    "        #gt_label = gt_label.pop()\n",
    "        \n",
    "        ent_cand_label.append({\"entity\": ent, \"candidates\": candidates, \"occurences\": coord_list, \"gt_label\": gt_label})\n",
    "        if i % 100 == 0:\n",
    "            with open(f\"data/candidates/candidates-gnd-{split}-{i}.pkl\", \"wb\") as f:\n",
    "                pickle.dump(ent_cand_label, f)\n",
    "                    \n",
    "    with open(f\"data/candidates/candidates-gnd-{split}.pkl\", \"wb\") as f:\n",
    "       pickle.dump(ent_cand_label, f)\n",
    "print(problematic_entities)\n"
   ]
  },
  {
   "cell_type": "markdown",
   "metadata": {},
   "source": [
    "# Feature Generation"
   ]
  },
  {
   "cell_type": "markdown",
   "metadata": {},
   "source": [
    "Uncomment and run this to load and save the fasttext model"
   ]
  },
  {
   "cell_type": "code",
   "execution_count": 33,
   "metadata": {},
   "outputs": [],
   "source": [
    "# from gensim.models.fasttext import FastText, load_facebook_vectors\n",
    "# model = load_facebook_vectors(\"cc.de.300.bin/cc.de.300.bin\")\n",
    "# model.save(\"./fasttext\")"
   ]
  },
  {
   "cell_type": "code",
   "execution_count": 54,
   "metadata": {
    "scrolled": true
   },
   "outputs": [
    {
     "name": "stderr",
     "output_type": "stream",
     "text": [
      "C:\\Users\\genta\\anaconda3\\envs\\cs4nlp\\lib\\site-packages\\thefuzz\\fuzz.py:11: UserWarning: Using slow pure-python SequenceMatcher. Install python-Levenshtein to remove this warning\n",
      "  warnings.warn('Using slow pure-python SequenceMatcher. Install python-Levenshtein to remove this warning')\n"
     ]
    }
   ],
   "source": [
    "import pickle\n",
    "from tqdm import  tqdm\n",
    "from feature_generation import create_features, get_gnd"
   ]
  },
  {
   "cell_type": "code",
   "execution_count": null,
   "metadata": {
    "collapsed": true
   },
   "outputs": [],
   "source": [
    "for split in [\"train\", \"eval\", \"test\"]:\n",
    "    with open(f\"data/candidates/candidates-gnd-{split}.pkl\", \"rb\") as f:\n",
    "        ent_cand_label = pickle.load(f)\n",
    "\n",
    "    list_of_good_entities = []\n",
    "    list_of_problematic_entities = []\n",
    "    for ent_dict in tqdm(ent_cand_label):\n",
    "        if len(set(ent_dict[\"labels\"])) > 1:\n",
    "            for label in set(ent_dict[\"labels\"]):\n",
    "                ent_dict[\"label\"] = label\n",
    "                features = candidates_to_features(ent=ent_dict[\"entity\"], candidates=ent_dict[\"candidates\"], gt_label=ent_dict[\"label\"])\n",
    "                ent_dict.update(features)\n",
    "                list_of_problematic_entities.append(ent_dict.copy())\n",
    "        else:\n",
    "            ent_dict[\"label\"] = set(ent_dict[\"labels\"]).pop()\n",
    "            features = candidates_to_features(ent=ent_dict[\"entity\"], candidates=ent_dict[\"candidates\"], gt_label=ent_dict[\"label\"])\n",
    "            ent_dict.update(features)\n",
    "            list_of_good_entities.append(ent_dict)\n",
    "            \n",
    "    with open(f\"data/features/{split}.pkl\", \"wb\") as f:\n",
    "        pickle.dump(list_of_good_entities, file=f)\n",
    "    \n",
    "    with open(f\"data/features/{split}_problematic.pkl\", \"wb\") as f:\n",
    "        pickle.dump(list_of_problematic_entities, file=f)"
   ]
  },
  {
   "cell_type": "markdown",
   "metadata": {},
   "source": [
    "## Unsupervised Feature Generation"
   ]
  },
  {
   "cell_type": "code",
   "execution_count": 6,
   "metadata": {},
   "outputs": [
    {
     "name": "stdout",
     "output_type": "stream",
     "text": [
      "Available models: ['fasttext-wiki-news-subwords-300', 'conceptnet-numberbatch-17-06-300', 'word2vec-ruscorpora-300', 'word2vec-google-news-300', 'glove-wiki-gigaword-50', 'glove-wiki-gigaword-100', 'glove-wiki-gigaword-200', 'glove-wiki-gigaword-300', 'glove-twitter-25', 'glove-twitter-50', 'glove-twitter-100', 'glove-twitter-200', '__testing_word2vec-matrix-synopsis']\n",
      "Available models: ['fasttext-wiki-news-subwords-300', 'conceptnet-numberbatch-17-06-300', 'word2vec-ruscorpora-300', 'word2vec-google-news-300', 'glove-wiki-gigaword-50', 'glove-wiki-gigaword-100', 'glove-wiki-gigaword-200', 'glove-wiki-gigaword-300', 'glove-twitter-25', 'glove-twitter-50', 'glove-twitter-100', 'glove-twitter-200', '__testing_word2vec-matrix-synopsis']\n"
     ]
    }
   ],
   "source": [
    "import logging\n",
    "import pickle\n",
    "from tqdm.notebook import  tqdm\n",
    "import importlib\n",
    "import unsupervised.raw_text_driver\n",
    "importlib.reload(unsupervised.raw_text_driver)\n",
    "import unsupervised.portal_dnb_driver\n",
    "importlib.reload(unsupervised.portal_dnb_driver)\n",
    "import unsupervised.data_loader\n",
    "with open(f\"data/features/train.pkl\", \"rb\") as f:\n",
    "    list_of_good_entities = pickle.load(f)\n",
    "\n",
    "importlib.reload(unsupervised.data_loader)\n",
    "\n",
    "\n",
    "data_loader = unsupervised.data_loader.DataLoader(raw_data_path='/home/aheser/ETH-CS4NLP-22-Project-Linking-GND/data/input/raw')"
   ]
  },
  {
   "cell_type": "code",
   "execution_count": 23,
   "metadata": {
    "scrolled": true
   },
   "outputs": [
    {
     "name": "stdout",
     "output_type": "stream",
     "text": [
      "processing eval\n"
     ]
    },
    {
     "name": "stderr",
     "output_type": "stream",
     "text": [
      " 73%|█████████████████████████████████████████████████████████████████████████████████████████████████████████████▍                                       | 36/49 [00:01<00:00, 29.93it/s]/home/aheser/.local/lib/python3.8/site-packages/scipy/spatial/distance.py:630: RuntimeWarning: invalid value encountered in double_scalars\n",
      "  dist = 1.0 - uv / np.sqrt(uu * vv)\n",
      "100%|█████████████████████████████████████████████████████████████████████████████████████████████████████████████████████████████████████████████████████| 49/49 [00:01<00:00, 35.87it/s]\n"
     ]
    },
    {
     "name": "stdout",
     "output_type": "stream",
     "text": [
      "processing train\n"
     ]
    },
    {
     "name": "stderr",
     "output_type": "stream",
     "text": [
      "100%|█████████████████████████████████████████████████████████████████████████████████████████████████████████████████████████████████████████████████| 26/26 [00:00<00:00, 293940.44it/s]\n"
     ]
    },
    {
     "name": "stdout",
     "output_type": "stream",
     "text": [
      "processing eval\n"
     ]
    },
    {
     "name": "stderr",
     "output_type": "stream",
     "text": [
      "0it [00:00, ?it/s]\n"
     ]
    },
    {
     "name": "stdout",
     "output_type": "stream",
     "text": [
      "processing test\n"
     ]
    },
    {
     "name": "stderr",
     "output_type": "stream",
     "text": [
      "100%|█████████████████████████████████████████████████████████████████████████████████████████████████████████████████████████████████████████████████| 34/34 [00:00<00:00, 252848.11it/s]\n"
     ]
    }
   ],
   "source": [
    "logging.basicConfig(level=logging.WARNING)\n",
    "avg_distance_counter = 0\n",
    "avg_distance = np.array((3,))\n",
    "# for split in [\"train\", \"eval\", \"test\"]:\n",
    "for split in [\"eval\"]:\n",
    "    print('processing', split)\n",
    "    with open(f\"data/features/{split}.pkl\", \"rb\") as f:\n",
    "        list_of_good_entities = pickle.load(f)\n",
    "    \n",
    "    for current_entity in tqdm(list_of_good_entities):\n",
    "        distances = data_loader.get_context_distances(current_entity, similarity_measure='cosine_similarity', window_size=10)\n",
    "        for feature_counter in range(len(current_entity['features'])):\n",
    "            current_entity['features'][feature_counter].extend(distances[feature_counter])\n",
    "            avg_distance = avg_distance + np.array(distances[feature_counter])\n",
    "            avg_distance_counter = avg_distance_counter + 1\n",
    "        \n",
    "    \n",
    "    with open(f\"data/features/unsupervised_{split}.pkl\", \"wb\") as f:\n",
    "        pickle.dump(list_of_good_entities, file=f)\n",
    "\n",
    "avg_distance = avg_distance / avg_distance_counter\n",
    "# problematic ones (we don't have any vectors, use mean)\n",
    "for split in [\"train\", \"eval\", \"test\"]:\n",
    "    print('processing', split)\n",
    "    with open(f\"data/features/{split}_problematic.pkl\", \"rb\") as f:\n",
    "        list_of_good_entities = pickle.load(f)\n",
    "    \n",
    "    for current_entity in tqdm(list_of_good_entities):\n",
    "        for feature_counter in range(len(current_entity['features'])):\n",
    "            current_entity['features'][feature_counter].extend(avg_distance)\n",
    "    \n",
    "    with open(f\"data/features/unsupervised_{split}_problematic.pkl\", \"wb\") as f:\n",
    "        pickle.dump(list_of_good_entities, file=f)"
   ]
  },
  {
   "cell_type": "markdown",
   "metadata": {},
   "source": [
    "# Ranking"
   ]
  },
  {
   "cell_type": "markdown",
   "metadata": {},
   "source": [
    "## Load Data"
   ]
  },
  {
   "cell_type": "code",
   "execution_count": 1,
   "metadata": {},
   "outputs": [],
   "source": [
    "import pickle\n",
    "from tqdm import tqdm\n",
    "import numpy as np\n",
    "from evaluation import perform_experiment, plot_metrics_over_threshold, crossvalidate_experiment"
   ]
  },
  {
   "cell_type": "code",
   "execution_count": 2,
   "metadata": {},
   "outputs": [],
   "source": [
    "d = {\"train\": {}, \"eval\": {}, \"test\": {}}\n",
    "for split in [\"train\", \"eval\", \"test\"]:\n",
    "    with open(f\"data/features/unsupervised_{split}.pkl\", \"rb\") as f:\n",
    "        d[split] = pickle.load(file=f)\n",
    "\n",
    "d_problem = {\"train\": {}, \"eval\": {}, \"test\": {}}\n",
    "for split in [\"train\", \"eval\", \"test\"]:\n",
    "    with open(f\"data/features/unsupervised_{split}_problematic.pkl\", \"rb\") as f:\n",
    "        d_problem[split] = pickle.load(file=f)\n",
    "\n",
    "d_combined = {\"train\": d[\"train\"] + d_problem[\"train\"], \"eval\": d[\"eval\"] + d_problem[\"eval\"], \"test\": d[\"test\"] + d_problem[\"test\"]}"
   ]
  },
  {
   "cell_type": "code",
   "execution_count": 3,
   "metadata": {},
   "outputs": [
    {
     "data": {
      "text/plain": [
       "[[0,\n",
       "  0,\n",
       "  0,\n",
       "  1990,\n",
       "  1990,\n",
       "  1990,\n",
       "  0,\n",
       "  20000,\n",
       "  0.9464269044090748,\n",
       "  0.9948693977387967,\n",
       "  0.3839781512601184]]"
      ]
     },
     "execution_count": 3,
     "metadata": {},
     "output_type": "execute_result"
    }
   ],
   "source": [
    "# for counter, x in enumerate(d_combined['test']):\n",
    "#     for feat in x['features']:\n",
    "#         for feat2 in feat:\n",
    "#             if np.isnan(feat2):\n",
    "#                 print(counter)\n",
    "#                 break\n",
    "\n",
    "d_problem['test'][0]['features']"
   ]
  },
  {
   "cell_type": "markdown",
   "metadata": {},
   "source": [
    "**Best scores We could get**"
   ]
  },
  {
   "cell_type": "code",
   "execution_count": 4,
   "metadata": {},
   "outputs": [],
   "source": [
    "from sklearn.ensemble import ExtraTreesRegressor\n",
    "\n",
    "ent_scores, ment_scores = perform_experiment(\n",
    "    keep_empty=True,\n",
    "    do_sample=True,\n",
    "    oversampling=3, # Multiple of how often we oversample y = 1\n",
    "    balance=2, # multiple of y = 0 samples vs y = 1 samples\n",
    "    #train=d_combined[\"train\"] + d_combined[\"eval\"],\n",
    "    #eval=d_combined[\"test\"],\n",
    "    d={\n",
    "        'train': d_combined[\"train\"] + d_combined[\"eval\"],\n",
    "        'eval': d_combined[\"test\"]\n",
    "    },\n",
    "    model=ExtraTreesRegressor(n_estimators=100, random_state=0, criterion=\"squared_error\", bootstrap=True),\n",
    "    n_s=[1,10], # How many candidates do we keep\n",
    "    thresholds=[0.1, 0.2, 0.3, 0.4, 0.5], # Where do we cut off\n",
    "    verbose=False # Print stuff\n",
    ")"
   ]
  },
  {
   "cell_type": "code",
   "execution_count": 5,
   "metadata": {},
   "outputs": [
    {
     "name": "stdout",
     "output_type": "stream",
     "text": [
      "\n",
      "Entity Level\n",
      "N: 1 Threshold: 0.1\n",
      "F1: 0.411 RE:  0.263 PR: 0.939 AC: 0.441\n",
      "TP: 46 FN: 129 FP 3 TN 58\n",
      "\n",
      "\n",
      "N: 1 Threshold: 0.2\n",
      "F1: 0.411 RE:  0.263 PR: 0.939 AC: 0.441\n",
      "TP: 46 FN: 129 FP 3 TN 58\n",
      "\n",
      "\n",
      "N: 1 Threshold: 0.3\n",
      "F1: 0.396 RE:  0.251 PR: 0.936 AC: 0.432\n",
      "TP: 44 FN: 131 FP 3 TN 58\n",
      "\n",
      "\n",
      "N: 1 Threshold: 0.4\n",
      "F1: 0.374 RE:  0.234 PR: 0.932 AC: 0.419\n",
      "TP: 41 FN: 134 FP 3 TN 58\n",
      "\n",
      "\n",
      "N: 1 Threshold: 0.5\n",
      "F1: 0.343 RE:  0.211 PR: 0.902 AC: 0.398\n",
      "TP: 37 FN: 138 FP 4 TN 57\n",
      "\n",
      "\n",
      "N: 10 Threshold: 0.1\n",
      "F1: 0.449 RE:  0.291 PR: 0.981 AC: 0.47\n",
      "TP: 51 FN: 124 FP 1 TN 60\n",
      "\n",
      "\n",
      "N: 10 Threshold: 0.2\n",
      "F1: 0.449 RE:  0.291 PR: 0.981 AC: 0.47\n",
      "TP: 51 FN: 124 FP 1 TN 60\n",
      "\n",
      "\n",
      "N: 10 Threshold: 0.3\n",
      "F1: 0.436 RE:  0.28 PR: 0.98 AC: 0.462\n",
      "TP: 49 FN: 126 FP 1 TN 60\n",
      "\n",
      "\n",
      "N: 10 Threshold: 0.4\n",
      "F1: 0.4 RE:  0.251 PR: 0.978 AC: 0.441\n",
      "TP: 44 FN: 131 FP 1 TN 60\n",
      "\n",
      "\n",
      "N: 10 Threshold: 0.5\n",
      "F1: 0.369 RE:  0.229 PR: 0.952 AC: 0.419\n",
      "TP: 40 FN: 135 FP 2 TN 59\n",
      "\n",
      "\n",
      "Mention Level\n",
      "N: 1 Threshold: 0.1\n",
      "F1: 0.68 RE:  0.532 PR: 0.942 AC: 0.597\n",
      "TP: 507 FN: 446 FP 31 TN 201\n",
      "\n",
      "\n",
      "N: 1 Threshold: 0.2\n",
      "F1: 0.68 RE:  0.532 PR: 0.942 AC: 0.597\n",
      "TP: 507 FN: 446 FP 31 TN 201\n",
      "\n",
      "\n",
      "N: 1 Threshold: 0.3\n",
      "F1: 0.676 RE:  0.527 PR: 0.942 AC: 0.593\n",
      "TP: 502 FN: 451 FP 31 TN 201\n",
      "\n",
      "\n",
      "N: 1 Threshold: 0.4\n",
      "F1: 0.669 RE:  0.519 PR: 0.941 AC: 0.587\n",
      "TP: 495 FN: 458 FP 31 TN 201\n",
      "\n",
      "\n",
      "N: 1 Threshold: 0.5\n",
      "F1: 0.659 RE:  0.509 PR: 0.936 AC: 0.577\n",
      "TP: 485 FN: 468 FP 33 TN 199\n",
      "\n",
      "\n",
      "N: 10 Threshold: 0.1\n",
      "F1: 0.726 RE:  0.571 PR: 0.996 AC: 0.653\n",
      "TP: 544 FN: 409 FP 2 TN 230\n",
      "\n",
      "\n",
      "N: 10 Threshold: 0.2\n",
      "F1: 0.726 RE:  0.571 PR: 0.996 AC: 0.653\n",
      "TP: 544 FN: 409 FP 2 TN 230\n",
      "\n",
      "\n",
      "N: 10 Threshold: 0.3\n",
      "F1: 0.722 RE:  0.566 PR: 0.996 AC: 0.649\n",
      "TP: 539 FN: 414 FP 2 TN 230\n",
      "\n",
      "\n",
      "N: 10 Threshold: 0.4\n",
      "F1: 0.704 RE:  0.545 PR: 0.996 AC: 0.632\n",
      "TP: 519 FN: 434 FP 2 TN 230\n",
      "\n",
      "\n",
      "N: 10 Threshold: 0.5\n",
      "F1: 0.694 RE:  0.534 PR: 0.992 AC: 0.622\n",
      "TP: 509 FN: 444 FP 4 TN 228\n",
      "\n",
      "\n"
     ]
    }
   ],
   "source": [
    "print(\"\\nEntity Level\")\n",
    "for score in ent_scores:\n",
    "    print(\"N:\", score[\"top_n\"], \"Threshold:\", score[\"threshold\"])\n",
    "    score[\"score\"].print_scores()\n",
    "\n",
    "print(\"Mention Level\")\n",
    "for score in ment_scores:\n",
    "    print(\"N:\", score[\"top_n\"], \"Threshold:\", score[\"threshold\"])\n",
    "    score[\"score\"].print_scores()"
   ]
  },
  {
   "cell_type": "code",
   "execution_count": 7,
   "metadata": {
    "scrolled": true
   },
   "outputs": [],
   "source": [
    "ent_scores, ment_scores = crossvalidate_experiment(\n",
    "    d = d_combined,\n",
    "    n_fold = 5,\n",
    "    keep_empty=True,\n",
    "    do_sample=True,\n",
    "    oversampling=2, # Multiple of how often we oversample y = 1\n",
    "    balance=3, # multiple of y = 0 samples vs y = 1 samples\n",
    "    model=ExtraTreesRegressor(n_estimators=100, random_state=0, criterion=\"squared_error\", bootstrap=True),\n",
    "    n_s=[1,10], # How many candidates do we keep\n",
    "    thresholds=[0.01, 0.1, 0.3, 0.5], # Where do we cut off\n",
    "    verbose=False # Print stuff\n",
    ")"
   ]
  },
  {
   "cell_type": "code",
   "execution_count": 34,
   "metadata": {},
   "outputs": [
    {
     "name": "stdout",
     "output_type": "stream",
     "text": [
      "\n",
      "Entity Level\n",
      "N: 1 Threshold: 0.01\n",
      "F1: 0.629 RE:  0.465 PR: 0.971 AC: 0.688\n",
      "TP: 33 FN: 38 FP 1 TN 53\n",
      "\n",
      "\n",
      "N: 1 Threshold: 0.1\n",
      "F1: 0.623 RE:  0.458 PR: 0.971 AC: 0.683\n",
      "TP: 33 FN: 39 FP 1 TN 53\n",
      "\n",
      "\n",
      "N: 1 Threshold: 0.3\n",
      "F1: 0.574 RE:  0.408 PR: 0.967 AC: 0.656\n",
      "TP: 29 FN: 42 FP 1 TN 53\n",
      "\n",
      "\n",
      "N: 1 Threshold: 0.5\n",
      "F1: 0.531 RE:  0.366 PR: 0.963 AC: 0.632\n",
      "TP: 26 FN: 45 FP 1 TN 53\n",
      "\n",
      "\n",
      "N: 10 Threshold: 0.01\n",
      "F1: 0.703 RE:  0.542 PR: 1.0 AC: 0.738\n",
      "TP: 39 FN: 33 FP 0 TN 54\n",
      "\n",
      "\n",
      "N: 10 Threshold: 0.1\n",
      "F1: 0.691 RE:  0.528 PR: 1.0 AC: 0.73\n",
      "TP: 38 FN: 34 FP 0 TN 54\n",
      "\n",
      "\n",
      "N: 10 Threshold: 0.3\n",
      "F1: 0.642 RE:  0.479 PR: 0.971 AC: 0.696\n",
      "TP: 34 FN: 37 FP 1 TN 53\n",
      "\n",
      "\n",
      "N: 10 Threshold: 0.5\n",
      "F1: 0.596 RE:  0.431 PR: 0.969 AC: 0.667\n",
      "TP: 31 FN: 41 FP 1 TN 53\n",
      "\n",
      "\n",
      "Mention Level\n",
      "N: 1 Threshold: 0.01\n",
      "F1: 0.763 RE:  0.629 PR: 0.97 AC: 0.751\n",
      "TP: 163 FN: 96 FP 5 TN 142\n",
      "\n",
      "\n",
      "N: 1 Threshold: 0.1\n",
      "F1: 0.761 RE:  0.625 PR: 0.97 AC: 0.749\n",
      "TP: 162 FN: 97 FP 5 TN 142\n",
      "\n",
      "\n",
      "N: 1 Threshold: 0.3\n",
      "F1: 0.728 RE:  0.583 PR: 0.968 AC: 0.722\n",
      "TP: 151 FN: 108 FP 5 TN 142\n",
      "\n",
      "\n",
      "N: 1 Threshold: 0.5\n",
      "F1: 0.698 RE:  0.544 PR: 0.972 AC: 0.699\n",
      "TP: 141 FN: 118 FP 4 TN 142\n",
      "\n",
      "\n",
      "N: 10 Threshold: 0.01\n",
      "F1: 0.828 RE:  0.707 PR: 1.0 AC: 0.812\n",
      "TP: 183 FN: 76 FP 0 TN 146\n",
      "\n",
      "\n",
      "N: 10 Threshold: 0.1\n",
      "F1: 0.823 RE:  0.699 PR: 1.0 AC: 0.807\n",
      "TP: 181 FN: 78 FP 0 TN 146\n",
      "\n",
      "\n",
      "N: 10 Threshold: 0.3\n",
      "F1: 0.786 RE:  0.653 PR: 0.988 AC: 0.773\n",
      "TP: 169 FN: 90 FP 2 TN 145\n",
      "\n",
      "\n",
      "N: 10 Threshold: 0.5\n",
      "F1: 0.754 RE:  0.61 PR: 0.988 AC: 0.746\n",
      "TP: 158 FN: 101 FP 2 TN 144\n",
      "\n",
      "\n"
     ]
    }
   ],
   "source": [
    "print(\"\\nEntity Level\")\n",
    "for score in ent_scores:\n",
    "    print(\"N:\", score[\"top_n\"], \"Threshold:\", score[\"threshold\"])\n",
    "    score[\"score\"].print_scores()\n",
    "\n",
    "print(\"Mention Level\")\n",
    "for score in ment_scores:\n",
    "    print(\"N:\", score[\"top_n\"], \"Threshold:\", score[\"threshold\"])\n",
    "    score[\"score\"].print_scores()"
   ]
  },
  {
   "cell_type": "code",
   "execution_count": 8,
   "metadata": {},
   "outputs": [],
   "source": [
    "from sklearn.ensemble import ExtraTreesClassifier, ExtraTreesRegressor\n",
    "from sklearn.linear_model import ElasticNet\n",
    "from sklearn.ensemble import GradientBoostingRegressor\n",
    "from sklearn.gaussian_process import GaussianProcessRegressor\n",
    "from sklearn.gaussian_process.kernels import DotProduct, WhiteKernel\n",
    "\n",
    "models = [\n",
    "    GradientBoostingRegressor(n_estimators=100, learning_rate=0.1, max_depth=1, random_state=0, loss='squared_error'),\n",
    "    ExtraTreesRegressor(n_estimators=100, random_state=0, criterion=\"squared_error\", bootstrap=True),\n",
    "    ExtraTreesRegressor(n_estimators=100, random_state=0, criterion=\"absolute_error\", bootstrap=True),\n",
    "    ExtraTreesClassifier(n_estimators=100, random_state=0, bootstrap=True),\n",
    "    ElasticNet(random_state=0),\n",
    "    GaussianProcessRegressor(kernel = DotProduct() + WhiteKernel(), random_state=0)\n",
    "]\n",
    "\n",
    "model_names = [\"Gradient Boosting Regressor\", \"Extra Trees Regressor Squared\", \"Extra Trees Regressor Absolute\", \"Extra Trees Classifier\", \"Elastic Net\", \"Gaussian Process\"]"
   ]
  },
  {
   "cell_type": "code",
   "execution_count": 9,
   "metadata": {},
   "outputs": [],
   "source": [
    "models = [ExtraTreesRegressor(n_estimators=100, random_state=0, criterion=\"squared_error\", bootstrap=True)]\n",
    "model_names = [\"Tree Reg Squared\"]"
   ]
  },
  {
   "cell_type": "code",
   "execution_count": 10,
   "metadata": {},
   "outputs": [],
   "source": [
    "balance_list = [2, 3]\n",
    "oversampling_list = [2, 3]\n",
    "n_s = [1,10]\n",
    "thresholds = [0.01, 0.1, 0.2, 0.5]"
   ]
  },
  {
   "cell_type": "code",
   "execution_count": null,
   "metadata": {},
   "outputs": [
    {
     "name": "stdout",
     "output_type": "stream",
     "text": [
      "Tree Reg Squared\n",
      "Data: cleaned\n",
      "keep_empty: True\n",
      "do_sample: True\n",
      "Balance: 2\n",
      "Oversampling: 2\n",
      "Oversampling: 3\n",
      "Balance: 3\n",
      "Oversampling: 2\n",
      "Oversampling: 3\n",
      "do_sample: False\n",
      "keep_empty: False\n",
      "do_sample: True\n",
      "Balance: 2\n",
      "Oversampling: 2\n",
      "Oversampling: 3\n",
      "Balance: 3\n",
      "Oversampling: 2\n",
      "Oversampling: 3\n",
      "do_sample: False\n",
      "Data: combined\n",
      "keep_empty: True\n",
      "do_sample: True\n",
      "Balance: 2\n",
      "Oversampling: 2\n",
      "Oversampling: 3\n",
      "Balance: 3\n",
      "Oversampling: 2\n",
      "Oversampling: 3\n",
      "do_sample: False\n",
      "keep_empty: False\n",
      "do_sample: True\n",
      "Balance: 2\n",
      "Oversampling: 2\n"
     ]
    }
   ],
   "source": [
    "model_results = []\n",
    "\n",
    "for model, model_name in zip(models, model_names):\n",
    "    print(model_name)\n",
    "    results = []\n",
    "    for data, data_name in zip([d, d_combined], [\"cleaned\", \"combined\"]):\n",
    "        print(\"Data:\", data_name)\n",
    "        for keep_empty in [True, False]:\n",
    "            print(\"keep_empty:\", keep_empty)\n",
    "            for do_sample in [True, False]:\n",
    "                print(\"do_sample:\", do_sample)\n",
    "                if do_sample:\n",
    "                    for balance in balance_list:\n",
    "                        print(\"Balance:\", balance)\n",
    "                        for oversampling in oversampling_list:\n",
    "                            print(\"Oversampling:\", oversampling)\n",
    "                            ent_scores, ment_scores = crossvalidate_experiment(\n",
    "                                    d = data,\n",
    "                                    n_fold = 5,\n",
    "                                    keep_empty=keep_empty,\n",
    "                                    do_sample=do_sample, \n",
    "                                    oversampling=oversampling, \n",
    "                                    balance=balance,\n",
    "                                    model=model,\n",
    "                                    n_s=n_s,\n",
    "                                    thresholds=thresholds,\n",
    "                                    verbose=False \n",
    "                                )\n",
    "                            results.append({\n",
    "                                \"keep_empty\": keep_empty,\n",
    "                                \"do_sample\": do_sample,\n",
    "                                \"balance\": balance,\n",
    "                                \"oversampling\": oversampling,\n",
    "                                \"ent_scores\": ent_scores,\n",
    "                                \"ment_scores\": ment_scores,\n",
    "                                \"model\": model_name,\n",
    "                                \"data\": data_name\n",
    "                            })\n",
    "                else:\n",
    "                    balance = 1\n",
    "                    oversampling = 1 \n",
    "                    ent_scores, ment_scores = crossvalidate_experiment(\n",
    "                            d = data,\n",
    "                            n_fold = 5,\n",
    "                            keep_empty=keep_empty,\n",
    "                            do_sample=do_sample, \n",
    "                            oversampling=oversampling, \n",
    "                            balance=balance,\n",
    "                            model=model,\n",
    "                            n_s=n_s,\n",
    "                            thresholds=thresholds,\n",
    "                            verbose=False \n",
    "                        )\n",
    "                    results.append({\n",
    "                        \"keep_empty\": keep_empty,\n",
    "                        \"do_sample\": do_sample,\n",
    "                        \"balance\": balance,\n",
    "                        \"oversampling\": oversampling,\n",
    "                        \"ent_scores\": ent_scores,\n",
    "                        \"ment_scores\": ment_scores,\n",
    "                        \"model\": model_name,\n",
    "                        \"data\": data_name\n",
    "                    })\n",
    "    model_results.append(results)"
   ]
  },
  {
   "cell_type": "code",
   "execution_count": null,
   "metadata": {
    "scrolled": false
   },
   "outputs": [],
   "source": [
    "import os\n",
    "\n",
    "do_sample = True\n",
    "keep_empty = True\n",
    "model = \"Tree Reg Squared\"\n",
    "data = \"combined\"\n",
    "\n",
    "if not os.path.exists('plots'):\n",
    "    os.makedirs('plots')\n",
    "    \n",
    "for balance in balance_list:\n",
    "    for oversampling in oversampling_list:\n",
    "        plot_metrics_over_threshold(\n",
    "            thresholds=thresholds, \n",
    "            n_s=n_s, \n",
    "            oversampling=oversampling, \n",
    "            balance=balance, \n",
    "            do_sample=True, \n",
    "            keep_empty=True, \n",
    "            model=model,\n",
    "            data=data,\n",
    "            results=results)"
   ]
  },
  {
   "cell_type": "code",
   "execution_count": null,
   "metadata": {},
   "outputs": [],
   "source": [
    "# top_10 scores are necessarily better than top_1 scores, here we can decide which one we choose to get metrics about\n",
    "top_n = 1"
   ]
  },
  {
   "cell_type": "code",
   "execution_count": null,
   "metadata": {},
   "outputs": [],
   "source": [
    "def extract(scores, score_name, dict, current_setup, top_n):\n",
    "    for score in scores:\n",
    "        score_dict = score[\"score\"].get_score()\n",
    "        if score[\"top_n\"] == top_n:\n",
    "            curr_setup[\"top_n\"] = score[\"top_n\"]\n",
    "            curr_setup[\"treshold\"] = score[\"treshold\"]\n",
    "            if score_dict[score_name] > dict[f\"top_{score_name}\"]:\n",
    "                dict[f\"top_{score_name}\"] = score_dict[score_name]\n",
    "                dict[f\"top_{score_name}_setup\"] = [current_setup]\n",
    "            elif score_dict[score_name] == dict[f\"top_{score_name}\"]:\n",
    "                dict[f\"top_{score_name}_setup\"].append(current_setup)\n",
    "    return dict\n",
    "\n",
    "model_results = []\n",
    "for model_name in model_names:\n",
    "    dictionary={\n",
    "        \"ent\": {\n",
    "            \"top_F1\": 0,\n",
    "            \"top_Recall\": 0,\n",
    "            \"top_Precision\": 0,\n",
    "            \"top_F1_setup\": [],\n",
    "            \"top_Recall_setup\": [],\n",
    "            \"top_Precision_setup\": []\n",
    "        },\n",
    "        \"ment\": {\n",
    "            \"top_F1\": 0,\n",
    "            \"top_Recall\": 0,\n",
    "            \"top_Precision\": 0,\n",
    "            \"top_F1_setup\": [],\n",
    "            \"top_Recall_setup\": [],\n",
    "            \"top_Precision_setup\": []\n",
    "        }\n",
    "    }\n",
    "    for di in results:\n",
    "        if di[\"model\"] == model_name:\n",
    "            for scoring_level in [\"ent\", \"ment\"]:\n",
    "                scores = di[f\"{scoring_level}_scores\"]\n",
    "                curr_setup = {\n",
    "                    \"data\": di[\"data\"],\n",
    "                    \"do_sample\": di[\"do_sample\"],\n",
    "                    \"balance\": di[\"balance\"],\n",
    "                    \"oversampling\": di[\"oversampling\"],\n",
    "                    \"keep_empty\": di[\"keep_empty\"]\n",
    "                }\n",
    "                for score_name in [\"F1\", \"Recall\", \"Precision\"]:\n",
    "                    dictionary[scoring_level] = extract(scores, score_name, dictionary[scoring_level], curr_setup, top_n=top_n )\n",
    "    model_results.append(dictionary)        \n"
   ]
  },
  {
   "cell_type": "code",
   "execution_count": null,
   "metadata": {},
   "outputs": [],
   "source": [
    "score = \"F1\""
   ]
  },
  {
   "cell_type": "code",
   "execution_count": null,
   "metadata": {},
   "outputs": [],
   "source": [
    "for scores, model_name in zip(model_results, model_names):\n",
    "    balance = []\n",
    "    combined = []\n",
    "    oversampling = []\n",
    "    keep_empty = []\n",
    "    do_sample = []\n",
    "    top_n = []\n",
    "    tresholds = []\n",
    "    print(model_name)\n",
    "    for scoring_level in [\"ent\", \"ment\"]:\n",
    "        print(f\"{scoring_level}\\t\", f\"{score}:\\t\", scores[scoring_level][f\"top_{score}\"])\n",
    "        print(f\"{scoring_level}\\t\", f\"{score} Setup:\")\n",
    "        for setup in scores[scoring_level][f\"top_{score}_setup\"]:\n",
    "            if setup[\"data\"] == \"cleaned\":\n",
    "                combined.append(0)\n",
    "            else:\n",
    "                combined.append(1)\n",
    "            balance.append(setup[\"balance\"])\n",
    "            oversampling.append(setup[\"oversampling\"])\n",
    "            top_n.append(setup[\"top_n\"])\n",
    "            tresholds.append(setup[\"treshold\"])\n",
    "            if setup[\"do_sample\"]:\n",
    "                do_sample.append(1)\n",
    "            else:\n",
    "                do_sample.append(0)\n",
    "            if setup[\"keep_empty\"]:\n",
    "                keep_empty.append(1)\n",
    "            else:\n",
    "                keep_empty.append(0)\n",
    "    \n",
    "        print(f\"Number of setups: {len(do_sample)}\")\n",
    "\n",
    "        print(\"Mean\")\n",
    "        print(\"sample\", np.mean(do_sample))\n",
    "        print(\"empty \", np.mean(keep_empty))\n",
    "        print(\"combin\", np.mean(combined))\n",
    "        print(\"tresh \", np.mean(tresholds))\n",
    "        print(\"top_n \", np.mean(top_n))\n",
    "        print(\"overs \", np.mean(oversampling))\n",
    "        print(\"balanc\", np.mean(balance))\n",
    "\n",
    "        print(\"Median\")\n",
    "        print(\"sample\", np.median(do_sample))\n",
    "        print(\"empty \", np.median(keep_empty))\n",
    "        print(\"combin\", np.median(combined))\n",
    "        print(\"tresh \", np.median(tresholds))\n",
    "        print(\"top_n \", np.median(top_n))\n",
    "        print(\"overs \", np.median(oversampling))\n",
    "        print(\"balanc\", np.median(balance))\n",
    "        print(\"\\n\\n\")\n",
    "            "
   ]
  },
  {
   "cell_type": "markdown",
   "metadata": {},
   "source": [
    "After some tests we find:\n",
    "- ExtraTreesRegressor works best\n",
    "- with: \n",
    "    - Balance = 1\n",
    "    - Oversampling = 1\n",
    "    - do_sample = True\n",
    "    - keep_empty = True\n",
    "    - treshold = 0.1 or smaller is more stable in advers conditions for balance 1 and oversampling 1 it does not matter -> this makes the regression more stable\n",
    "    - => n -> does not matter so much can amolst go to 1 !!!!\n",
    "\n",
    "- problematic entities seem to help "
   ]
  }
 ],
 "metadata": {
  "kernelspec": {
   "display_name": "Python 3 (ipykernel)",
   "language": "python",
   "name": "python3"
  },
  "language_info": {
   "codemirror_mode": {
    "name": "ipython",
    "version": 3
   },
   "file_extension": ".py",
   "mimetype": "text/x-python",
   "name": "python",
   "nbconvert_exporter": "python",
   "pygments_lexer": "ipython3",
   "version": "3.8.10"
  },
  "vscode": {
   "interpreter": {
    "hash": "6c94d51cd8360e2f18432dae5114b333636d08a4ea226f055bf446eeb779cd30"
   }
  }
 },
 "nbformat": 4,
 "nbformat_minor": 2
}
